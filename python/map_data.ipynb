{
 "cells": [
  {
   "cell_type": "code",
   "execution_count": null,
   "metadata": {},
   "outputs": [],
   "source": [
    "# Change working directory to project folder\n",
    "import os\n",
    "from pathlib import Path\n",
    "\n",
    "PROJECT_DIRECTORY = Path().resolve().parent\n",
    "\n",
    "old_cwd = os.getcwd()\n",
    "os.chdir(PROJECT_DIRECTORY)\n",
    "print(f\"Changed working directory from {old_cwd} to {os.getcwd()}\")\n"
   ]
  },
  {
   "cell_type": "code",
   "execution_count": null,
   "metadata": {},
   "outputs": [],
   "source": [
    "from python.utils import (\n",
    "    load_shapefile,\n",
    "    load_geodata_url,\n",
    "    map_simple,\n",
    "    map_folium,\n",
    "    NYC_PROJECTION,\n",
    "    DEFAULT_MAP_CONFIG,\n",
    ")\n",
    "import pandas as pd\n",
    "import geopandas as gpd\n",
    "from us.states import NY\n",
    "import contextily as cx\n",
    "\n",
    "pd.options.display.max_rows = 20\n",
    "\n",
    "DATA_DIRECTORY = \".data/inspect_shapefile\"\n",
    "CENSUS_SHAPEFILE_URL_COUNTY = (\n",
    "    \"https://www2.census.gov/geo/tiger/TIGER2020/COUNTY/tl_2020_us_county.zip\"\n",
    ")\n",
    "CENSUS_SHAPEFILE_URL_PUMA_NY = (\n",
    "    f\"https://www2.census.gov/geo/tiger/TIGER2020/PUMA20/tl_2020_{NY.fips}_puma20.zip\"\n",
    ")\n"
   ]
  },
  {
   "attachments": {},
   "cell_type": "markdown",
   "metadata": {},
   "source": [
    "## Census data"
   ]
  },
  {
   "cell_type": "code",
   "execution_count": null,
   "metadata": {},
   "outputs": [],
   "source": [
    "census_pumas_ny = load_geodata_url(CENSUS_SHAPEFILE_URL_PUMA_NY)\n",
    "census_pumas_ny.crs\n"
   ]
  },
  {
   "cell_type": "code",
   "execution_count": null,
   "metadata": {},
   "outputs": [],
   "source": [
    "census_pumas_ny\n"
   ]
  },
  {
   "cell_type": "code",
   "execution_count": null,
   "metadata": {},
   "outputs": [],
   "source": [
    "census_pumas_nyc = census_pumas_ny[census_pumas_ny[\"NAMELSAD20\"].str.contains(\"NYC\")]\n",
    "census_pumas_nyc = census_pumas_nyc.to_crs(NYC_PROJECTION)\n"
   ]
  },
  {
   "cell_type": "code",
   "execution_count": null,
   "metadata": {},
   "outputs": [],
   "source": [
    "map_simple(\n",
    "    census_pumas_nyc,\n",
    "    **DEFAULT_MAP_CONFIG,\n",
    ")\n"
   ]
  },
  {
   "cell_type": "code",
   "execution_count": null,
   "metadata": {},
   "outputs": [],
   "source": [
    "census_counties = load_geodata_url(CENSUS_SHAPEFILE_URL_COUNTY)\n",
    "census_counties.crs\n"
   ]
  },
  {
   "cell_type": "code",
   "execution_count": null,
   "metadata": {},
   "outputs": [],
   "source": [
    "census_counties\n"
   ]
  },
  {
   "cell_type": "code",
   "execution_count": null,
   "metadata": {},
   "outputs": [],
   "source": [
    "census_counties_ny = census_counties[census_counties[\"STATEFP\"] == NY.fips]\n",
    "census_counties_nyc = census_counties_ny[census_counties_ny[\"CLASSFP\"] == \"H6\"]\n",
    "census_counties_nyc = census_counties_nyc.to_crs(NYC_PROJECTION)\n",
    "census_counties_nyc\n"
   ]
  },
  {
   "cell_type": "code",
   "execution_count": null,
   "metadata": {},
   "outputs": [],
   "source": [
    "map_simple(\n",
    "    census_counties_nyc,\n",
    "    **DEFAULT_MAP_CONFIG,\n",
    ")\n"
   ]
  },
  {
   "attachments": {},
   "cell_type": "markdown",
   "metadata": {},
   "source": [
    "## NYC Open Streets"
   ]
  },
  {
   "cell_type": "code",
   "execution_count": null,
   "metadata": {},
   "outputs": [],
   "source": [
    "open_streets_geojson = load_geodata_url(\n",
    "    \"https://data.cityofnewyork.us/resource/uiay-nctu.geojson\"\n",
    ")\n",
    "open_streets_geojson.geometry.crs\n"
   ]
  },
  {
   "cell_type": "code",
   "execution_count": null,
   "metadata": {},
   "outputs": [],
   "source": [
    "open_streets_geojson\n"
   ]
  },
  {
   "cell_type": "code",
   "execution_count": null,
   "metadata": {},
   "outputs": [],
   "source": [
    "map_simple(\n",
    "    open_streets_geojson,\n",
    "    projection=NYC_PROJECTION,\n",
    "    **DEFAULT_MAP_CONFIG,\n",
    ")\n"
   ]
  },
  {
   "cell_type": "code",
   "execution_count": null,
   "metadata": {},
   "outputs": [],
   "source": [
    "# CRS of data in geometry column is already NYC_PROJECTION\n",
    "open_streets_geojson.crs = NYC_PROJECTION\n",
    "open_streets_geojson.crs\n"
   ]
  },
  {
   "cell_type": "code",
   "execution_count": null,
   "metadata": {},
   "outputs": [],
   "source": [
    "open_streets_bk = open_streets_geojson[\n",
    "    open_streets_geojson[\"boroughname\"] == \"Brooklyn\"\n",
    "]\n",
    "open_streets_bk\n"
   ]
  },
  {
   "cell_type": "code",
   "execution_count": null,
   "metadata": {},
   "outputs": [],
   "source": [
    "map_simple(open_streets_bk)\n"
   ]
  },
  {
   "cell_type": "code",
   "execution_count": null,
   "metadata": {},
   "outputs": [],
   "source": [
    "open_streets_bk_hart = open_streets_bk[\n",
    "    open_streets_bk[\"appronstre\"].str.contains(\"HART\")\n",
    "]\n",
    "map_folium(open_streets_bk_hart)\n"
   ]
  },
  {
   "cell_type": "code",
   "execution_count": null,
   "metadata": {},
   "outputs": [],
   "source": [
    "map_folium(\n",
    "    open_streets_bk_hart,\n",
    "    tiles=\"CartoDB positron\",\n",
    ")\n"
   ]
  },
  {
   "cell_type": "code",
   "execution_count": null,
   "metadata": {},
   "outputs": [],
   "source": [
    "map_folium(\n",
    "    open_streets_geojson,\n",
    "    color=\"green\",\n",
    "    tiles=\"CartoDB positron\",\n",
    "    style_kwds={\n",
    "        \"weight\": 4,\n",
    "    },\n",
    ")\n"
   ]
  },
  {
   "attachments": {},
   "cell_type": "markdown",
   "metadata": {},
   "source": [
    "## CBBR"
   ]
  },
  {
   "cell_type": "code",
   "execution_count": null,
   "metadata": {},
   "outputs": [],
   "source": [
    "data_cbbr = load_shapefile(\n",
    "    directory=DATA_DIRECTORY,\n",
    "    filename=\"cbbr_submissions_poly_shapefile.zip\",\n",
    ")\n",
    "data_cbbr.head()\n"
   ]
  },
  {
   "cell_type": "code",
   "execution_count": null,
   "metadata": {},
   "outputs": [],
   "source": [
    "data_cbbr.crs\n"
   ]
  },
  {
   "cell_type": "code",
   "execution_count": null,
   "metadata": {},
   "outputs": [],
   "source": [
    "data_cbbr.info()\n"
   ]
  },
  {
   "cell_type": "code",
   "execution_count": null,
   "metadata": {},
   "outputs": [],
   "source": [
    "data_cbbr = data_cbbr.to_crs(NYC_PROJECTION)\n",
    "data_cbbr\n"
   ]
  },
  {
   "cell_type": "code",
   "execution_count": null,
   "metadata": {},
   "outputs": [],
   "source": [
    "# count geometry types\n",
    "data_cbbr.geom_type.value_counts()\n"
   ]
  },
  {
   "cell_type": "code",
   "execution_count": null,
   "metadata": {},
   "outputs": [],
   "source": [
    "map_simple(data_cbbr, **DEFAULT_MAP_CONFIG)\n"
   ]
  },
  {
   "cell_type": "code",
   "execution_count": null,
   "metadata": {},
   "outputs": [],
   "source": [
    "map_folium(\n",
    "    data_cbbr,\n",
    "    color=\"#e28743\",\n",
    "    tiles=\"CartoDB positron\",\n",
    "    style_kwds={\n",
    "        \"weight\": 4,\n",
    "    },\n",
    ")\n"
   ]
  },
  {
   "cell_type": "code",
   "execution_count": null,
   "metadata": {},
   "outputs": [],
   "source": []
  }
 ],
 "metadata": {
  "kernelspec": {
   "display_name": "Python 3",
   "language": "python",
   "name": "python3"
  },
  "language_info": {
   "codemirror_mode": {
    "name": "ipython",
    "version": 3
   },
   "file_extension": ".py",
   "mimetype": "text/x-python",
   "name": "python",
   "nbconvert_exporter": "python",
   "pygments_lexer": "ipython3",
   "version": "3.11.2"
  },
  "orig_nbformat": 4
 },
 "nbformat": 4,
 "nbformat_minor": 2
}
