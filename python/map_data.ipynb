{
 "cells": [
  {
   "cell_type": "code",
   "execution_count": null,
   "metadata": {},
   "outputs": [],
   "source": [
    "import os\n",
    "from pathlib import Path\n",
    "import pandas as pd\n",
    "import geopandas as gpd\n",
    "from us.states import NY\n",
    "import contextily as cx\n",
    "\n",
    "# Change working directory to project folder\n",
    "old_cwd = os.getcwd()\n",
    "PROJECT_DIRECTORY = Path().resolve().parent\n",
    "os.chdir(PROJECT_DIRECTORY)\n",
    "print(f\"Changed working directory from {old_cwd} to {os.getcwd()}\")\n",
    "\n",
    "from python.utils import (\n",
    "    load_data_file,\n",
    "    load_shapefile,\n",
    "    load_geodata_url,\n",
    "    reporject_geometry,\n",
    "    map_simple,\n",
    "    map_folium,\n",
    "    NYC_PROJECTION,\n",
    "    WKT_PROJECTION,\n",
    "    DEFAULT_MATPLOTLIB_MAP_CONFIG,\n",
    "    DEFAULT_FOLIUM_MAP_CONFIG,\n",
    ")\n",
    "\n",
    "pd.options.display.max_rows = 20\n",
    "\n",
    "DATA_DIRECTORY = \".data/inspect_shapefile\"\n",
    "CENSUS_SHAPEFILE_URL_COUNTY = (\n",
    "    \"https://www2.census.gov/geo/tiger/TIGER2020/COUNTY/tl_2020_us_county.zip\"\n",
    ")\n",
    "CENSUS_SHAPEFILE_URL_PUMA_NY = (\n",
    "    f\"https://www2.census.gov/geo/tiger/TIGER2020/PUMA20/tl_2020_{NY.fips}_puma20.zip\"\n",
    ")\n",
    "\n"
   ]
  },
  {
   "attachments": {},
   "cell_type": "markdown",
   "metadata": {},
   "source": [
    "## Census data"
   ]
  },
  {
   "cell_type": "code",
   "execution_count": null,
   "metadata": {},
   "outputs": [],
   "source": [
    "census_pumas_ny = load_geodata_url(CENSUS_SHAPEFILE_URL_PUMA_NY)\n",
    "census_pumas_ny.crs\n"
   ]
  },
  {
   "cell_type": "code",
   "execution_count": null,
   "metadata": {},
   "outputs": [],
   "source": [
    "census_pumas_ny\n"
   ]
  },
  {
   "cell_type": "code",
   "execution_count": null,
   "metadata": {},
   "outputs": [],
   "source": [
    "census_pumas_nyc = census_pumas_ny[census_pumas_ny[\"NAMELSAD20\"].str.contains(\"NYC\")]\n",
    "census_pumas_nyc = census_pumas_nyc.to_crs(NYC_PROJECTION)\n"
   ]
  },
  {
   "cell_type": "code",
   "execution_count": null,
   "metadata": {},
   "outputs": [],
   "source": [
    "map_simple(\n",
    "    census_pumas_nyc,\n",
    "    **DEFAULT_MATPLOTLIB_MAP_CONFIG,\n",
    ")\n"
   ]
  },
  {
   "cell_type": "code",
   "execution_count": null,
   "metadata": {},
   "outputs": [],
   "source": [
    "census_counties = load_geodata_url(CENSUS_SHAPEFILE_URL_COUNTY)\n",
    "census_counties.crs\n"
   ]
  },
  {
   "cell_type": "code",
   "execution_count": null,
   "metadata": {},
   "outputs": [],
   "source": [
    "census_counties\n"
   ]
  },
  {
   "cell_type": "code",
   "execution_count": null,
   "metadata": {},
   "outputs": [],
   "source": [
    "census_counties_ny = census_counties[census_counties[\"STATEFP\"] == NY.fips]\n",
    "census_counties_nyc = census_counties_ny[census_counties_ny[\"CLASSFP\"] == \"H6\"]\n",
    "census_counties_nyc = census_counties_nyc.to_crs(NYC_PROJECTION)\n",
    "census_counties_nyc\n"
   ]
  },
  {
   "cell_type": "code",
   "execution_count": null,
   "metadata": {},
   "outputs": [],
   "source": [
    "census_counties_nyc.crs"
   ]
  },
  {
   "cell_type": "code",
   "execution_count": null,
   "metadata": {},
   "outputs": [],
   "source": [
    "map_simple(\n",
    "    census_counties_nyc,\n",
    "    **DEFAULT_MATPLOTLIB_MAP_CONFIG,\n",
    ")\n"
   ]
  },
  {
   "cell_type": "code",
   "execution_count": null,
   "metadata": {},
   "outputs": [],
   "source": [
    "map_folium(census_counties_nyc)"
   ]
  },
  {
   "attachments": {},
   "cell_type": "markdown",
   "metadata": {},
   "source": [
    "## NYC Open Streets"
   ]
  },
  {
   "cell_type": "code",
   "execution_count": null,
   "metadata": {},
   "outputs": [],
   "source": [
    "open_streets_geojson = load_geodata_url(\n",
    "    \"https://data.cityofnewyork.us/resource/uiay-nctu.geojson\"\n",
    ")\n",
    "open_streets_geojson.geometry.crs\n"
   ]
  },
  {
   "cell_type": "code",
   "execution_count": null,
   "metadata": {},
   "outputs": [],
   "source": [
    "open_streets_geojson"
   ]
  },
  {
   "cell_type": "code",
   "execution_count": null,
   "metadata": {},
   "outputs": [],
   "source": [
    "# the CRS of the GeoDataFrame is WKT_PROJECTION\n",
    "# but the CRS of the geometries is actually NYC_PROJECTION\n",
    "open_streets_geojson.crs = NYC_PROJECTION\n",
    "open_streets_geojson.crs\n"
   ]
  },
  {
   "cell_type": "code",
   "execution_count": null,
   "metadata": {},
   "outputs": [],
   "source": [
    "open_streets_geojson"
   ]
  },
  {
   "cell_type": "code",
   "execution_count": null,
   "metadata": {},
   "outputs": [],
   "source": [
    "map_simple(open_streets_geojson)"
   ]
  },
  {
   "cell_type": "code",
   "execution_count": null,
   "metadata": {},
   "outputs": [],
   "source": [
    "open_streets_bk = open_streets_geojson[\n",
    "    open_streets_geojson[\"boroughname\"] == \"Brooklyn\"\n",
    "]\n",
    "open_streets_bk\n"
   ]
  },
  {
   "cell_type": "code",
   "execution_count": null,
   "metadata": {},
   "outputs": [],
   "source": [
    "map_simple(open_streets_bk)\n"
   ]
  },
  {
   "cell_type": "code",
   "execution_count": null,
   "metadata": {},
   "outputs": [],
   "source": [
    "map_folium(open_streets_bk)"
   ]
  },
  {
   "cell_type": "code",
   "execution_count": null,
   "metadata": {},
   "outputs": [],
   "source": [
    "# open_streets_bk_hart = open_streets_bk.filter(\"appronstre\")\n",
    "open_streets_bk_focus = open_streets_bk[\n",
    "    open_streets_bk[\"apprfromst\"].str.contains(\"HALSEY\")\n",
    "]\n",
    "open_streets_bk_focus"
   ]
  },
  {
   "cell_type": "code",
   "execution_count": null,
   "metadata": {},
   "outputs": [],
   "source": [
    "map_folium(open_streets_bk_focus)\n"
   ]
  },
  {
   "attachments": {},
   "cell_type": "markdown",
   "metadata": {},
   "source": [
    "## CBBR"
   ]
  },
  {
   "cell_type": "code",
   "execution_count": null,
   "metadata": {},
   "outputs": [],
   "source": [
    "data_cbbr = load_shapefile(f\"{DATA_DIRECTORY}/cbbr_submissions_poly_shapefile.zip\")\n",
    "data_cbbr.crs"
   ]
  },
  {
   "cell_type": "code",
   "execution_count": null,
   "metadata": {},
   "outputs": [],
   "source": [
    "data_cbbr"
   ]
  },
  {
   "cell_type": "code",
   "execution_count": null,
   "metadata": {},
   "outputs": [],
   "source": [
    "data_cbbr.info()"
   ]
  },
  {
   "cell_type": "code",
   "execution_count": null,
   "metadata": {},
   "outputs": [],
   "source": [
    "# data_cbbr = data_cbbr.to_crs(NYC_PROJECTION)\n",
    "# data_cbbr\n"
   ]
  },
  {
   "cell_type": "code",
   "execution_count": null,
   "metadata": {},
   "outputs": [],
   "source": [
    "# count geometry types\n",
    "data_cbbr.geom_type.value_counts()\n"
   ]
  },
  {
   "cell_type": "code",
   "execution_count": null,
   "metadata": {},
   "outputs": [],
   "source": [
    "map_simple(data_cbbr, projection=WKT_PROJECTION)\n"
   ]
  },
  {
   "cell_type": "code",
   "execution_count": null,
   "metadata": {},
   "outputs": [],
   "source": [
    "map_folium(\n",
    "    data_cbbr,\n",
    "    map_config = {\n",
    "        \"color\":\"#e28743\",\n",
    "        \"tiles\":\"CartoDB positron\",\n",
    "        \"style_kwds\":{\n",
    "            \"weight\": 4,\n",
    "        },\n",
    "    }\n",
    ")\n"
   ]
  },
  {
   "attachments": {},
   "cell_type": "markdown",
   "metadata": {},
   "source": [
    "## MapZAP"
   ]
  },
  {
   "cell_type": "code",
   "execution_count": null,
   "metadata": {},
   "outputs": [],
   "source": [
    "# mapzap = load_geodata_csv(\"./.data/mapzap/mapzap_wkt_20230601.csv\", geometry_column=\"wkt\")\n",
    "filepath = \"./.data/mapzap/mapzap_wkt_20230601.csv\"\n",
    "geometry_column = \"wkt\"\n",
    "geography = load_shapefile(\"./.data/mapzap/mapzap_wkt_20230601.csv\")\n",
    "# geography = load_data_file(filepath).dropna(subset=geomtry_column)\n",
    "# # geography[\"geometry\"] = geography[geometry_column]\n",
    "# geography[geometry_column] = gpd.GeoSeries.from_wkt(geography[geometry_column], crs='epsg:4326')\n",
    "# geography = gpd.GeoDataFrame(geography, crs=NYC_PROJECTION, geometry=geometry_column)\n",
    "# geography.to_crs(NYC_PROJECTION)\n",
    "# # geography = gpd.GeoDataFrame(geography)\n",
    "# # geography.set_geometry(geometry_column)\n",
    "\n",
    "mapzap = geography\n",
    "type(mapzap)"
   ]
  },
  {
   "cell_type": "code",
   "execution_count": null,
   "metadata": {},
   "outputs": [],
   "source": [
    "mapzap.crs"
   ]
  },
  {
   "cell_type": "code",
   "execution_count": null,
   "metadata": {},
   "outputs": [],
   "source": [
    "mapzap"
   ]
  },
  {
   "cell_type": "code",
   "execution_count": null,
   "metadata": {},
   "outputs": [],
   "source": [
    "mapzap = reporject_geometry(mapzap, WKT_PROJECTION, NYC_PROJECTION)"
   ]
  },
  {
   "cell_type": "code",
   "execution_count": null,
   "metadata": {},
   "outputs": [],
   "source": [
    "mapzap"
   ]
  },
  {
   "cell_type": "code",
   "execution_count": null,
   "metadata": {},
   "outputs": [],
   "source": [
    "# mapzap = mapzap.drop(axis=1, labels=[\"geometry\"])"
   ]
  },
  {
   "cell_type": "code",
   "execution_count": null,
   "metadata": {},
   "outputs": [],
   "source": [
    "mapzap"
   ]
  },
  {
   "cell_type": "code",
   "execution_count": null,
   "metadata": {},
   "outputs": [],
   "source": [
    "map_simple(mapzap)\n"
   ]
  },
  {
   "cell_type": "code",
   "execution_count": null,
   "metadata": {},
   "outputs": [],
   "source": [
    "mapzap_ceqr_type_ii = mapzap[mapzap[\"ceqr_type\"] == \"Type II\"]\n",
    "map_simple(mapzap_ceqr_type_ii)\n"
   ]
  },
  {
   "cell_type": "code",
   "execution_count": null,
   "metadata": {},
   "outputs": [],
   "source": [
    "type(mapzap_ceqr_type_ii)"
   ]
  },
  {
   "cell_type": "code",
   "execution_count": null,
   "metadata": {},
   "outputs": [],
   "source": [
    "mapzap_ceqr_type_ii"
   ]
  },
  {
   "cell_type": "code",
   "execution_count": null,
   "metadata": {},
   "outputs": [],
   "source": [
    "mapzap_ceqr_type_ii_for_folium = mapzap_ceqr_type_ii.dropna(subset=[\"geometry\"])\n",
    "map_folium(mapzap_ceqr_type_ii_for_folium)"
   ]
  },
  {
   "cell_type": "code",
   "execution_count": null,
   "metadata": {},
   "outputs": [],
   "source": []
  }
 ],
 "metadata": {
  "kernelspec": {
   "display_name": "Python 3",
   "language": "python",
   "name": "python3"
  },
  "language_info": {
   "codemirror_mode": {
    "name": "ipython",
    "version": 3
   },
   "file_extension": ".py",
   "mimetype": "text/x-python",
   "name": "python",
   "nbconvert_exporter": "python",
   "pygments_lexer": "ipython3",
   "version": "3.11.4"
  },
  "orig_nbformat": 4
 },
 "nbformat": 4,
 "nbformat_minor": 2
}
